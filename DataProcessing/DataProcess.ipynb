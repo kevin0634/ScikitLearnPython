{
 "cells": [
  {
   "cell_type": "markdown",
   "metadata": {},
   "source": [
    "# Data Processing and Exploratory Analysis\n",
    "\n",
    "This script details how to use Python to conduct data processing and exploratory analysis. This is the first step for buiding any machine learning model. In order to feed the data into ML algorithm, the data has to be properly prepared. Then to better understand the underlying data characteritics and therefore consider the best ML methodology, the data has to be analyzed and studied."
   ]
  }
 ],
 "metadata": {
  "kernelspec": {
   "display_name": "Python 3",
   "language": "python",
   "name": "python3"
  },
  "language_info": {
   "codemirror_mode": {
    "name": "ipython",
    "version": 3
   },
   "file_extension": ".py",
   "mimetype": "text/x-python",
   "name": "python",
   "nbconvert_exporter": "python",
   "pygments_lexer": "ipython3",
   "version": "3.7.6"
  }
 },
 "nbformat": 4,
 "nbformat_minor": 4
}
